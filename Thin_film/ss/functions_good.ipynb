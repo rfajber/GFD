{
 "cells": [
  {
   "cell_type": "code",
   "execution_count": 1,
   "metadata": {
    "ExecuteTime": {
     "end_time": "2017-09-19T17:36:40.287899Z",
     "start_time": "2017-09-19T17:36:40.268656Z"
    }
   },
   "outputs": [
    {
     "ename": "SyntaxError",
     "evalue": "invalid syntax (<ipython-input-1-0a1f21a34173>, line 1)",
     "output_type": "error",
     "traceback": [
      "\u001b[0;36m  File \u001b[0;32m\"<ipython-input-1-0a1f21a34173>\"\u001b[0;36m, line \u001b[0;32m1\u001b[0m\n\u001b[0;31m    -\u001b[0m\n\u001b[0m     ^\u001b[0m\n\u001b[0;31mSyntaxError\u001b[0m\u001b[0;31m:\u001b[0m invalid syntax\n"
     ]
    }
   ],
   "source": [
    "-"
   ]
  },
  {
   "cell_type": "code",
   "execution_count": 2,
   "metadata": {
    "ExecuteTime": {
     "end_time": "2017-09-19T17:36:41.411334Z",
     "start_time": "2017-09-19T17:36:40.305739Z"
    },
    "collapsed": true
   },
   "outputs": [],
   "source": [
    "from scipy.optimize import fsolve\n",
    "def intu(u,dx):\n",
    "    I=np.zeros(len(u))\n",
    "    for ii in range(1,len(u)):\n",
    "        I[ii]=I[ii-1]+(u[ii-1]+u[ii])*dx/2.\n",
    "    return I\n",
    "\n",
    "def get_RX(X,D,L):\n",
    "    x=np.linspace(-X,0,1000)\n",
    "    u=uw(x,L)\n",
    "    dx=x[1]-x[0]\n",
    "    I=intu(u,dx)\n",
    "    V=np.trapz(x=x,y=np.power(.75*I,1./3.))\n",
    "    return D*L-V\n",
    "\n",
    "def get_X(D,L):\n",
    "    X=fsolve(get_RX,0.5*L,args=(D,L))\n",
    "    return X\n",
    "\n",
    "def get_h_VB(D,L):\n",
    "    X=get_X(D,L)\n",
    "    x=np.linspace(-X,0,1000)\n",
    "    u=uw(x,L)\n",
    "    dx=x[1]-x[0]\n",
    "    I=intu(u,dx)\n",
    "    return x,np.power(.75*I,1./3.)\n",
    "\n",
    "def extend_h_VB(D,L): #mainly to make plots \n",
    "    x,h=get_h_VB(D,L)\n",
    "    xe=np.linspace(-L,x[0],100)\n",
    "    he=np.zeros(len(xe))\n",
    "    xe=np.append(xe,x)\n",
    "    he=np.append(he,h)\n",
    "    return xe,he\n",
    "\n",
    "def plot_h_VB(D,L,style='k-',style_2='ro'):\n",
    "    x,h=extend_h_VB(D,L)\n",
    "    plt.plot(x,h,style)\n",
    "    plt.plot(x[0],h[0],style_2)\n",
    "    \n",
    "def get_RH(H,D,L):\n",
    "    x=np.linspace(-L,0,1000)\n",
    "    u=uw(x,L)\n",
    "    dx=x[1]-x[0]\n",
    "    I=intu(u,dx)\n",
    "    V=np.trapz(x=x,y=np.power(.75*I+np.power(H,3),1./3.))\n",
    "    return D*L-V\n",
    "\n",
    "def get_H(D,L):\n",
    "    H=fsolve(get_RH,0.1*D,args=(D,L))\n",
    "    return H\n",
    "\n",
    "def get_h_VA(D,L):\n",
    "    H=get_H(D,L)\n",
    "    x=np.linspace(-L,0,1000)\n",
    "    u=uw(x,L)\n",
    "    dx=x[1]-x[0]\n",
    "    I=intu(u,dx)\n",
    "    return x,np.power(.75*I+np.power(H,3),1./3.)\n",
    "\n",
    "def D_crit(L):\n",
    "    x=np.linspace(-L,0,1000)\n",
    "    u=uw(x,L)\n",
    "    dx=x[1]-x[0]\n",
    "    I=intu(u,dx)\n",
    "    return 1./L*np.trapz(x=x,y=np.power(.75*I,1./3.))            "
   ]
  },
  {
   "cell_type": "code",
   "execution_count": 3,
   "metadata": {
    "ExecuteTime": {
     "end_time": "2017-09-19T17:36:41.627217Z",
     "start_time": "2017-09-19T17:36:41.418881Z"
    }
   },
   "outputs": [
    {
     "name": "stdout",
     "output_type": "stream",
     "text": [
      "5.0\n"
     ]
    },
    {
     "ename": "NameError",
     "evalue": "name 'np' is not defined",
     "output_type": "error",
     "traceback": [
      "\u001b[0;31m---------------------------------------------------------------------------\u001b[0m",
      "\u001b[0;31mNameError\u001b[0m                                 Traceback (most recent call last)",
      "\u001b[0;32m<ipython-input-3-9097b080f106>\u001b[0m in \u001b[0;36m<module>\u001b[0;34m()\u001b[0m\n\u001b[1;32m     11\u001b[0m \u001b[0mprint\u001b[0m\u001b[0;34m(\u001b[0m\u001b[0ml\u001b[0m\u001b[0;34m)\u001b[0m\u001b[0;34m\u001b[0m\u001b[0m\n\u001b[1;32m     12\u001b[0m \u001b[0mdx\u001b[0m\u001b[0;34m=\u001b[0m\u001b[0;34m(\u001b[0m\u001b[0ml\u001b[0m\u001b[0;34m/\u001b[0m\u001b[0;34m(\u001b[0m\u001b[0;36m.5\u001b[0m\u001b[0;34m*\u001b[0m\u001b[0mN\u001b[0m\u001b[0;34m)\u001b[0m\u001b[0;34m)\u001b[0m\u001b[0;34m\u001b[0m\u001b[0m\n\u001b[0;32m---> 13\u001b[0;31m \u001b[0mt\u001b[0m\u001b[0;34m=\u001b[0m\u001b[0mnp\u001b[0m\u001b[0;34m.\u001b[0m\u001b[0mlinspace\u001b[0m\u001b[0;34m(\u001b[0m\u001b[0;36m0\u001b[0m\u001b[0;34m,\u001b[0m\u001b[0mT\u001b[0m\u001b[0;34m,\u001b[0m\u001b[0;36m10\u001b[0m\u001b[0;34m*\u001b[0m\u001b[0mT\u001b[0m\u001b[0;34m)\u001b[0m\u001b[0;34m\u001b[0m\u001b[0m\n\u001b[0m\u001b[1;32m     14\u001b[0m \u001b[0mx\u001b[0m\u001b[0;34m=\u001b[0m\u001b[0mnp\u001b[0m\u001b[0;34m.\u001b[0m\u001b[0mlinspace\u001b[0m\u001b[0;34m(\u001b[0m\u001b[0;34m-\u001b[0m\u001b[0ml\u001b[0m\u001b[0;34m+\u001b[0m\u001b[0mdx\u001b[0m\u001b[0;34m,\u001b[0m\u001b[0ml\u001b[0m\u001b[0;34m-\u001b[0m\u001b[0mdx\u001b[0m\u001b[0;34m,\u001b[0m\u001b[0mN\u001b[0m\u001b[0;34m)\u001b[0m\u001b[0;34m\u001b[0m\u001b[0m\n\u001b[1;32m     15\u001b[0m \u001b[0mu\u001b[0m\u001b[0;34m=\u001b[0m\u001b[0muw\u001b[0m\u001b[0;34m(\u001b[0m\u001b[0mx\u001b[0m\u001b[0;34m,\u001b[0m\u001b[0ml\u001b[0m\u001b[0;34m)\u001b[0m\u001b[0;34m\u001b[0m\u001b[0m\n",
      "\u001b[0;31mNameError\u001b[0m: name 'np' is not defined"
     ]
    }
   ],
   "source": [
    "#Parameters\n",
    "#############################################\n",
    "T=2*10**4\n",
    "alpha=4.\n",
    "l=5.\n",
    "N=500\n",
    "#lE=1.\n",
    "D=.3\n",
    "#Simulation\n",
    "#############################################\n",
    "print(l)\n",
    "dx=(l/(.5*N))\n",
    "t=np.linspace(0,T,10*T)\n",
    "x=np.linspace(-l+dx,l-dx,N)\n",
    "u=uw(x,l)\n",
    "h0=np.ones(len(x))*D\n",
    "h=odeint(dhdt,h0,t,args=(u,alpha,dx))"
   ]
  },
  {
   "cell_type": "code",
   "execution_count": null,
   "metadata": {
    "ExecuteTime": {
     "end_time": "2017-09-19T17:36:41.628369Z",
     "start_time": "2017-09-19T21:36:40.328Z"
    }
   },
   "outputs": [],
   "source": [
    "#Parameters\n",
    "#############################################\n",
    "T=5*10**4\n",
    "alpha=4.\n",
    "l=5.\n",
    "N=500\n",
    "#lE=1.\n",
    "D2=.15\n",
    "#Simulation\n",
    "#############################################\n",
    "print(l)\n",
    "dx=(l/(.5*N))\n",
    "t=np.linspace(0,T,10*T)\n",
    "x=np.linspace(-l+dx,l-dx,N)\n",
    "u=uw(x,l)\n",
    "h0=np.ones(len(x))*D2\n",
    "h2=odeint(dhdt,h0,t,args=(u,alpha,dx))"
   ]
  },
  {
   "cell_type": "code",
   "execution_count": null,
   "metadata": {
    "ExecuteTime": {
     "end_time": "2017-09-19T17:36:41.628983Z",
     "start_time": "2017-09-19T21:36:40.339Z"
    },
    "collapsed": true
   },
   "outputs": [],
   "source": [
    "#xs,hs=extend_h_VB(D,l)\n",
    "xs,hs=get_h_VA(D,l)"
   ]
  },
  {
   "cell_type": "code",
   "execution_count": null,
   "metadata": {
    "ExecuteTime": {
     "end_time": "2017-09-19T17:36:41.633816Z",
     "start_time": "2017-09-19T21:36:40.360Z"
    },
    "collapsed": true
   },
   "outputs": [],
   "source": [
    "xs2,hs2=get_h_VB(D2,l)"
   ]
  },
  {
   "cell_type": "code",
   "execution_count": null,
   "metadata": {
    "ExecuteTime": {
     "end_time": "2017-09-19T17:36:41.635620Z",
     "start_time": "2017-09-19T21:36:40.379Z"
    }
   },
   "outputs": [],
   "source": [
    "plt.plot(x,h[-1,:])\n",
    "plt.plot(xs,hs)\n",
    "plt.plot(x,h2[-1,:])\n",
    "plt.plot(xs2,hs2)\n",
    "plt.show()"
   ]
  },
  {
   "cell_type": "code",
   "execution_count": null,
   "metadata": {
    "ExecuteTime": {
     "end_time": "2017-09-19T17:36:41.638333Z",
     "start_time": "2017-09-19T21:36:40.410Z"
    },
    "collapsed": true
   },
   "outputs": [],
   "source": [
    "adv=np.zeros([2000,len(x)])\n",
    "dif=np.zeros([2000,len(x)])\n",
    "for ii in range(0,2000):\n",
    "    adv[ii]=advective_term(h[ii],u,dx)\n",
    "    dif[ii]=diffusive_term(h[ii],u,dx)    "
   ]
  },
  {
   "cell_type": "code",
   "execution_count": null,
   "metadata": {
    "ExecuteTime": {
     "end_time": "2017-09-19T17:36:41.640570Z",
     "start_time": "2017-09-19T21:36:40.433Z"
    }
   },
   "outputs": [],
   "source": [
    "plt.contourf(np.log(np.abs(adv[:100])))\n",
    "plt.colorbar()\n",
    "plt.show()"
   ]
  },
  {
   "cell_type": "code",
   "execution_count": null,
   "metadata": {
    "ExecuteTime": {
     "end_time": "2017-09-19T17:36:41.642709Z",
     "start_time": "2017-09-19T21:36:40.456Z"
    }
   },
   "outputs": [],
   "source": [
    "plt.contourf(np.log(np.abs(dif)))\n",
    "plt.colorbar()\n",
    "plt.show()"
   ]
  },
  {
   "cell_type": "code",
   "execution_count": null,
   "metadata": {
    "ExecuteTime": {
     "end_time": "2017-09-19T17:36:41.646342Z",
     "start_time": "2017-09-19T21:36:40.473Z"
    }
   },
   "outputs": [],
   "source": [
    "plt.contourf(np.log(np.abs(h2[:2000])))\n",
    "plt.colorbar()\n",
    "plt.show()"
   ]
  },
  {
   "cell_type": "code",
   "execution_count": null,
   "metadata": {
    "ExecuteTime": {
     "end_time": "2017-09-19T17:36:41.648562Z",
     "start_time": "2017-09-19T21:36:40.496Z"
    }
   },
   "outputs": [],
   "source": [
    "hm=np.zeros(np.shape(h2))\n",
    "hm[h2>D2]\n",
    "plt.plot(t,V)\n",
    "plt.show()"
   ]
  },
  {
   "cell_type": "code",
   "execution_count": null,
   "metadata": {
    "ExecuteTime": {
     "end_time": "2017-09-19T17:36:41.650971Z",
     "start_time": "2017-09-19T21:36:40.510Z"
    }
   },
   "outputs": [],
   "source": [
    "Vdot=(V[1:]-V[:-1])/(t[1]-t[0])\n",
    "plt.loglog(t[1:],Vdot)\n",
    "plt.show()"
   ]
  },
  {
   "cell_type": "code",
   "execution_count": null,
   "metadata": {
    "ExecuteTime": {
     "end_time": "2017-09-19T17:36:41.653407Z",
     "start_time": "2017-09-19T21:36:40.524Z"
    }
   },
   "outputs": [],
   "source": [
    "h2=.5*(h[-1,:100]+h[-1,99:][::-1])\n",
    "plt.plot(x[:100],h2)\n",
    "plt.plot(xs,hs)\n",
    "plt.show()"
   ]
  },
  {
   "cell_type": "code",
   "execution_count": null,
   "metadata": {
    "ExecuteTime": {
     "end_time": "2017-09-19T17:36:41.654545Z",
     "start_time": "2017-09-19T21:36:40.576Z"
    }
   },
   "outputs": [],
   "source": [
    "#plt.plot(x,h[:10].T)\n",
    "#plt.plot(x,h[:100:10].T)\n",
    "plt.plot(x,h[:20000:2000].T)\n",
    "plt.plot(xs,hs,'k--',linewidth=2.)\n",
    "print(2*np.trapz(x=xs,y=hs))\n",
    "print(np.trapz(x=x,y=h[0]))\n",
    "print(np.trapz(x=x,y=h[-1]))\n",
    "plt.xlim([-l,l])\n",
    "plt.show()"
   ]
  },
  {
   "cell_type": "code",
   "execution_count": null,
   "metadata": {
    "ExecuteTime": {
     "end_time": "2017-09-19T17:36:41.655132Z",
     "start_time": "2017-09-19T21:36:40.588Z"
    }
   },
   "outputs": [],
   "source": [
    "print(dhdt(h[-1],0,u,alpha,dx))\n"
   ]
  },
  {
   "cell_type": "code",
   "execution_count": null,
   "metadata": {
    "ExecuteTime": {
     "end_time": "2017-09-19T17:36:41.655628Z",
     "start_time": "2017-09-19T21:36:40.617Z"
    }
   },
   "outputs": [],
   "source": [
    "u2=uw(xs,l)\n",
    "hdot=dhdt(hs,0,u2,alpha,dx)\n",
    "print(len(xs))\n",
    "print(np.max(np.abs(hdot)))\n",
    "print(hdot[540:560])\n",
    "print(xs[540:560])\n",
    "plt.plot(xs,hs)\n",
    "plt.plot(xs[540:560],hs[540:560],'r-')\n",
    "plt.show()"
   ]
  },
  {
   "cell_type": "code",
   "execution_count": null,
   "metadata": {
    "ExecuteTime": {
     "end_time": "2017-09-19T17:36:41.656241Z",
     "start_time": "2017-09-19T21:36:40.628Z"
    }
   },
   "outputs": [],
   "source": [
    "plt.contourf(h)\n",
    "plt.show()"
   ]
  },
  {
   "cell_type": "code",
   "execution_count": null,
   "metadata": {
    "collapsed": true
   },
   "outputs": [],
   "source": []
  }
 ],
 "metadata": {
  "kernelspec": {
   "display_name": "Python 3",
   "language": "python",
   "name": "python3"
  },
  "language_info": {
   "codemirror_mode": {
    "name": "ipython",
    "version": 3
   },
   "file_extension": ".py",
   "mimetype": "text/x-python",
   "name": "python",
   "nbconvert_exporter": "python",
   "pygments_lexer": "ipython3",
   "version": "3.5.3"
  }
 },
 "nbformat": 4,
 "nbformat_minor": 2
}
