{
 "cells": [
  {
   "cell_type": "code",
   "execution_count": 1,
   "metadata": {
    "ExecuteTime": {
     "end_time": "2017-09-20T19:40:54.239294Z",
     "start_time": "2017-09-20T19:40:53.557479Z"
    },
    "collapsed": true
   },
   "outputs": [],
   "source": [
    "import numpy as np\n",
    "import matplotlib.pyplot as plt\n",
    "from scipy.integrate import solve_bvp\n",
    "from scipy.integrate import odeint\n",
    "from scipy import interpolate as interp"
   ]
  },
  {
   "cell_type": "code",
   "execution_count": 2,
   "metadata": {
    "ExecuteTime": {
     "end_time": "2017-09-20T19:40:57.717873Z",
     "start_time": "2017-09-20T19:40:57.405215Z"
    },
    "collapsed": true
   },
   "outputs": [],
   "source": [
    "#set constants\n",
    "global adv_BCL_no_flux, adv_BCR_no_flux, diff_BCL_no_flux, diff_BCR_no_flux \n",
    "global cL,cR,PL,PR\n",
    "global alpha\n",
    "global cinterp\n",
    "global eps\n",
    "global A1,A2,A3\n",
    "alpha=4.\n",
    "eps=0.\n",
    "A2=1.\n",
    "A1=1.0\n",
    "A3=10**2.\n",
    "\n",
    "def get_P(c):\n",
    "    return np.power(c,alpha)\n",
    "\n",
    "def u2(y,u):\n",
    "    u1=u[1]\n",
    "    u0=u[0]\n",
    "    uw=get_uw(y)\n",
    "    u2=A3*cinterp(y)*(u0-uw)\n",
    "    #print(cinterp(y))\n",
    "    return np.vstack([u1,u2])\n",
    "\n",
    "def ubc(ua,ub):\n",
    "    return np.array([ua[0],ub[1]])\n",
    "\n",
    "def get_uw(y):\n",
    "    return -y*(y-1)/.25#y*np.exp(-.5*y**2/0.02)####-1./3.*y**3.\n",
    "\n",
    "def get_vw(y):\n",
    "    return y*(y-1.)\n",
    "\n",
    "def get_vE(y,c):\n",
    "    global cinterp\n",
    "    cinterp=interp.interp1d(y,c) #make interpolation object from the concentrations\n",
    "    ug=[-y*(y-1.),-.1*(.5*y-1.)] \n",
    "    u=solve_bvp(u2,ubc,y,ug,verbose=0)\n",
    "    u=u.sol(y)[0]\n",
    "    uw=get_uw(y)\n",
    "    return A1*c*(u-uw)\n",
    "    \n",
    "def dcdt(c,t):\n",
    "    dcdt_adv=np.zeros(len(c)) #concentration advective part \n",
    "    dcdt_diff=np.zeros(len(c)) #concentration diffusive part \n",
    "    v=np.zeros(len(c))\n",
    "    #v+=get_vW(y)\n",
    "    v+=get_vE(y,c)\n",
    "    #advection interior\n",
    "    for ii in range(1,len(c)-1):\n",
    "        if v[ii]<=0:\n",
    "            dcdt_adv[ii]=(c[ii+1]*v[ii+1]-c[ii]*v[ii])/delta\n",
    "        elif v[ii]>0:\n",
    "            dcdt_adv[ii]=(c[ii]*v[ii]-c[ii-1]*v[ii-1])/delta\n",
    "    #BCL:\n",
    "    if v[0]<=0:\n",
    "        dcdt_adv[0]=(v[1]*c[1]-c[0]*v[0])/delta\n",
    "    else:\n",
    "        dcdt_adv[0]=dcdt_adv_BCL(v[0],c[0])\n",
    "    #BCR:\n",
    "    if vw[-1]>=0:\n",
    "        dcdt_adv[-1]=(v[-1]*c[-1]-c[-2]*v[-2])/delta\n",
    "    else:\n",
    "        dcdt_adv[-1]=dcdt_adv_BCR(v[-1],c[-1])\n",
    "    #non linear diffusion interior\n",
    "    P=get_P(c)\n",
    "    dcdt_diff[1:-1]=(P[:-2]-2.*P[1:-1]+P[2:])/delta**2.\n",
    "    #BCL\n",
    "    dcdt_diff[0]=dcdt_diff_BCL(P[1],P[0])\n",
    "    #BCR\n",
    "    dcdt_diff[-1]=dcdt_diff_BCR(P[-1],P[-2])\n",
    "\n",
    "    #linear diffusion interior\n",
    "    dcdt_diff[1:-1]+=eps*(c[:-2]-2.*c[1:-1]+c[2:])/delta**2.\n",
    "    #BCL\n",
    "    dcdt_diff[0]+=eps*dcdt_diff_BCL_lin(c[1],c[0])\n",
    "    #BCR\n",
    "    dcdt_diff[-1]+=eps*dcdt_diff_BCR_lin(c[-1],c[-2])\n",
    "    #return sum \n",
    "    return -dcdt_adv+dcdt_diff/A2\n",
    "\n",
    "def dcdt_adv_BCL(vw0,c0):\n",
    "    if adv_BCL_no_flux==1:\n",
    "        #no flux condition\n",
    "        return vw0*c0/delta\n",
    "    else:\n",
    "        #fixed C condition\n",
    "        return (vw0*c0-vwL*cL)/delta\n",
    "\n",
    "def dcdt_adv_BCR(vw1,c1):\n",
    "    if adv_BCR_no_flux==1:\n",
    "        #no flux condition \n",
    "        return -vw1*c1/delta\n",
    "    else:\n",
    "        #fixed C condition \n",
    "        return (vwR*cR-vw1*c1)/delta\n",
    "\n",
    "def dcdt_diff_BCL(P1,P0):\n",
    "    if diff_BCL_no_flux==1:\n",
    "        return (P1-P0)/delta**2\n",
    "    else:\n",
    "        return (PL-2*P1+P0)/delta**2\n",
    "\n",
    "def dcdt_diff_BCR(P1,P2):\n",
    "    if diff_BCR_no_flux==1:\n",
    "        return -(P1-P2)/delta**2\n",
    "    else:\n",
    "        return (PR-2*P1+P2)/delta**2\n",
    "    \n",
    "def dcdt_diff_BCL_lin(C1,C0):\n",
    "    if diff_BCL_no_flux==1:\n",
    "        return (C1-C0)/delta**2\n",
    "    else:\n",
    "        return (cL-2*C1+C0)/delta**2\n",
    "\n",
    "def dcdt_diff_BCR_lin(C1,C2):\n",
    "    if diff_BCR_no_flux==1:\n",
    "        return -(C1-C2)/delta**2\n",
    "    else:\n",
    "        return (cR-2*C1+C2)/delta**2\n",
    "    \n",
    "def odeint_substepper(c0,t,dM):#reduces output\n",
    "    dt=t[1]-t[0]\n",
    "    C=np.zeros((len(t),len(c0)))\n",
    "    C[0]=c0\n",
    "    t_int=np.linspace(0,dM*dt,int(dM))\n",
    "    for ii in range(1,len(t)):\n",
    "        temp=odeint(dcdt,C[ii-1],t_int)\n",
    "        C[ii]=temp[-1]\n",
    "    return C"
   ]
  },
  {
   "cell_type": "code",
   "execution_count": null,
   "metadata": {
    "ExecuteTime": {
     "end_time": "2017-08-13T15:30:02.233642Z",
     "start_time": "2017-08-13T15:29:17.684848Z"
    }
   },
   "outputs": [],
   "source": [
    "#ygrid \n",
    "L=1.\n",
    "delta=0.01\n",
    "N=int(L/delta)-1\n",
    "y=np.linspace(delta,L-delta,N)\n",
    "#advective velocity\n",
    "vw=1*y*(y-1)\n",
    "#vw=-y*np.exp(-.5*y**2)\n",
    "#settingup the time stepping\n",
    "\n",
    "cinf=.1\n",
    "Um=np.max(np.abs(vw))\n",
    "dt=delta/Um#**2/(4*4*cinf**3)\n",
    "\n",
    "T=5.\n",
    "dM=2. #substep size \n",
    "M=T/dt\n",
    "print(M)\n",
    "t=np.linspace(0,T+dt,int(M/dM))\n",
    "print(dt)\n",
    "print(len(t))\n",
    "#boundary conditions \n",
    "adv_BCL_no_flux=1\n",
    "adv_BCR_no_flux=1\n",
    "diff_BCL_no_flux=1\n",
    "diff_BCR_no_flux=0\n",
    "cR=cinf\n",
    "PR=get_P(cinf)\n",
    "\n",
    "c0=cinf*np.ones(N)\n",
    "\n",
    "C=odeint_substepper(c0,t,dM)\n"
   ]
  },
  {
   "cell_type": "code",
   "execution_count": null,
   "metadata": {
    "ExecuteTime": {
     "end_time": "2017-08-17T13:14:54.962376Z",
     "start_time": "2017-08-17T13:14:54.943047Z"
    },
    "collapsed": true
   },
   "outputs": [],
   "source": [
    "X=np.load('coupled_u0=0.npy')\n",
    "C,t,y=X"
   ]
  },
  {
   "cell_type": "code",
   "execution_count": null,
   "metadata": {
    "ExecuteTime": {
     "end_time": "2017-08-17T13:37:11.042037Z",
     "start_time": "2017-08-17T13:37:10.218780Z"
    }
   },
   "outputs": [],
   "source": [
    "\n",
    "\n",
    "vE0=get_vE(y,C[0])\n",
    "vE1=get_vE(y,C[-1])\n",
    "uW=get_uw(y)\n",
    "u0=vE0/C[0]+uW\n",
    "u1=vE1/C[-1]+uW\n",
    "\n",
    "plt.figure(0,figsize=(10,10,),facecolor='white')\n",
    "#plt.plot(y,uW,'k')\n",
    "plt.subplot(2,2,4)\n",
    "plt.title('$u$',size=20)\n",
    "#plt.plot(y,u0,'k',label='t=0')\n",
    "plt.plot(y,u1,'r-',label='u(t=200)')\n",
    "plt.plot(y,uW,'k--',label='uw')\n",
    "plt.xlabel('y',size=20)\n",
    "plt.legend()\n",
    "plt.subplot(2,2,2)\n",
    "plt.title('$v^E$(t=200)',size=20)\n",
    "#plt.plot(y,vE0,'r',label='t=0')\n",
    "plt.plot(y,vE1,'b',label='t=200')\n",
    "plt.xlabel('y',size=20)\n",
    "#plt.legend()\n",
    "plt.subplot(2,2,1)\n",
    "plt.title('$C(t=200)$',size=20)\n",
    "#plt.plot(y,C[0],'r',label='t=0')\n",
    "plt.plot(y,C[-1],'k',label='t=200')\n",
    "plt.xlabel('y',size=20)\n",
    "#plt.legend()\n",
    "\n",
    "plt.subplot(2,2,3)\n",
    "M=np.trapz(y=C,x=y,axis=1)\n",
    "plt.plot(t,M,'k-')\n",
    "plt.xlabel('t',size=20)\n",
    "plt.title('$\\int C dy$',size=20)\n",
    "\n",
    "plt.tight_layout()\n",
    "plt.show()"
   ]
  },
  {
   "cell_type": "code",
   "execution_count": null,
   "metadata": {
    "ExecuteTime": {
     "end_time": "2017-08-17T13:25:23.402822Z",
     "start_time": "2017-08-17T13:25:23.391545Z"
    }
   },
   "outputs": [],
   "source": [
    "print(len(t))\n",
    "print(t[-1])"
   ]
  },
  {
   "cell_type": "code",
   "execution_count": null,
   "metadata": {
    "ExecuteTime": {
     "end_time": "2017-08-17T16:56:53.683547Z",
     "start_time": "2017-08-17T16:56:50.624404Z"
    }
   },
   "outputs": [],
   "source": [
    "k=1\n",
    "plt.figure(figsize=(12,6),facecolor='white')\n",
    "for T in range(0,6,1):#np.linspace(0,20,201):\n",
    "    ind=T\n",
    "    ax1=plt.subplot(2,3,k)\n",
    "    plt.plot(y,C[ind],'k-')\n",
    "    plt.ylim([0,0.25])\n",
    "    ax2=ax1.twinx()\n",
    "    plt.plot(y,get_vE(y,C[ind]),'b-')\n",
    "    plt.plot([y[0],y[-1]],[0,0],'b--')\n",
    "    plt.ylim(-0.05,0.05)\n",
    "#    if k==10:\n",
    "#        plt.plot(y,CE,'r--')\n",
    "    plt.title('$C,V^E(t='+'{:.2f}'.format(t[ind])+')$',fontsize=20)\n",
    "    k+=1\n",
    "plt.tight_layout()\n",
    "\n",
    "k=1\n",
    "plt.figure(figsize=(12,6),facecolor='white')\n",
    "for T in range(10,110,10):#np.linspace(0,20,201):\n",
    "    ind=T\n",
    "    plt.subplot(2,5,k)\n",
    "    plt.plot(y,C[ind],'k-')\n",
    "#    if k==10:\n",
    "#        plt.plot(y,CE,'r--')\n",
    "    plt.title('$C,V^E(t='+'{:.2f}'.format(t[ind])+')$',fontsize=20)\n",
    "    plt.ylim([0,0.3])\n",
    "    k+=1\n",
    "plt.tight_layout()\n",
    "\n",
    "plt.show()"
   ]
  },
  {
   "cell_type": "code",
   "execution_count": null,
   "metadata": {
    "ExecuteTime": {
     "end_time": "2017-08-12T16:07:38.381992Z",
     "start_time": "2017-08-12T16:07:38.142854Z"
    }
   },
   "outputs": [],
   "source": [
    "print(len(t))\n",
    "T=np.min(np.where(t>2))\n",
    "print(T)\n",
    "tsamp=range(0,T,1)\n",
    "U=np.zeros((len(tsamp),len(y)))\n",
    "for ii in range(0,len(tsamp)):\n",
    "    U[ii]=get_vE(y,C[tsamp[ii]])/C[tsamp[ii]]+uW\n",
    "tsamp_col=np.linspace(0,1,len(tsamp))\n",
    "for ii in range(0,len(tsamp)):\n",
    "    plt.plot(y,U[ii,:],color=plt.cm.magma_r(tsamp_col[ii]),label=t[tsamp[ii]])\n",
    "plt.legend()\n",
    "plt.show()"
   ]
  },
  {
   "cell_type": "code",
   "execution_count": null,
   "metadata": {
    "ExecuteTime": {
     "end_time": "2017-08-13T10:56:56.508789Z",
     "start_time": "2017-08-13T10:56:55.718038Z"
    }
   },
   "outputs": [],
   "source": [
    "print(len(t))\n",
    "T=np.min(np.where(t>1))\n",
    "print(T)\n",
    "tsamp=range(0,T)\n",
    "U=np.zeros((len(tsamp),len(y)))\n",
    "for ii in range(0,len(tsamp)):\n",
    "    U[ii]=get_vE(y,C[tsamp[ii]])\n",
    "tsamp_col=np.linspace(0,1,len(tsamp))\n",
    "for ii in range(0,len(tsamp)):\n",
    "    plt.plot(y,U[ii,:],color=plt.cm.magma_r(tsamp_col[ii]),label=t[tsamp[ii]])\n",
    "plt.legend()\n",
    "plt.show()"
   ]
  },
  {
   "cell_type": "code",
   "execution_count": null,
   "metadata": {
    "ExecuteTime": {
     "end_time": "2017-08-08T16:54:59.768827Z",
     "start_time": "2017-08-08T16:54:59.355638Z"
    }
   },
   "outputs": [],
   "source": [
    "print(len(t))\n",
    "T=np.min(np.where(t>20))\n",
    "print(T)\n",
    "tsamp=range(0,T,5)\n",
    "U=np.zeros((len(tsamp),len(y)))\n",
    "for ii in range(0,len(tsamp)):\n",
    "    U[ii]=C[tsamp[ii]]\n",
    "tsamp_col=np.linspace(0,1,len(tsamp))\n",
    "for ii in range(0,len(tsamp)):\n",
    "    plt.plot(y,U[ii,:],color=plt.cm.magma_r(tsamp_col[ii]),label=t[tsamp[ii]])\n",
    "plt.legend()\n",
    "plt.show()"
   ]
  },
  {
   "cell_type": "code",
   "execution_count": null,
   "metadata": {
    "ExecuteTime": {
     "end_time": "2017-08-14T15:34:25.685798Z",
     "start_time": "2017-08-14T15:34:25.630955Z"
    }
   },
   "outputs": [],
   "source": [
    "plt.figure(figsize=(10,10),facecolor='white')\n",
    "plt.contourf(y,t,C)\n",
    "plt.title('c',fontsize=16)# with $v^E \\\\neq 0$',fontsize=16)\n",
    "plt.colorbar()\n",
    "plt.ylabel('t',fontsize=16)\n",
    "plt.xlabel('y',fontsize=16)\n",
    "plt.show()"
   ]
  },
  {
   "cell_type": "code",
   "execution_count": null,
   "metadata": {
    "ExecuteTime": {
     "end_time": "2017-08-08T14:26:46.028602Z",
     "start_time": "2017-08-08T14:26:46.022114Z"
    },
    "collapsed": true
   },
   "outputs": [],
   "source": [
    "#np.save('coupled_u0=0_tapered.npy',(C,t,y))"
   ]
  }
 ],
 "metadata": {
  "kernelspec": {
   "display_name": "Python 3",
   "language": "python",
   "name": "python3"
  },
  "language_info": {
   "codemirror_mode": {
    "name": "ipython",
    "version": 3
   },
   "file_extension": ".py",
   "mimetype": "text/x-python",
   "name": "python",
   "nbconvert_exporter": "python",
   "pygments_lexer": "ipython3",
   "version": "3.5.3"
  }
 },
 "nbformat": 4,
 "nbformat_minor": 2
}
