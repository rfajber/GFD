{
 "cells": [
  {
   "cell_type": "code",
   "execution_count": 1,
   "metadata": {
    "collapsed": true
   },
   "outputs": [],
   "source": [
    "import numpy as np\n",
    "import matplotlib.pyplot as plt\n",
    "from scipy.integrate import solve_bvp\n",
    "from scipy.integrate import odeint\n",
    "from scipy import interpolate as interp"
   ]
  },
  {
   "cell_type": "code",
   "execution_count": 36,
   "metadata": {
    "collapsed": true
   },
   "outputs": [],
   "source": [
    "#set constants\n",
    "global adv_BCL_no_flux, adv_BCR_no_flux, diff_BCL_no_flux, diff_BCR_no_flux \n",
    "global cL,cR,PL,PR\n",
    "global alpha\n",
    "global cinterp\n",
    "global eps\n",
    "global coupling_strength\n",
    "alpha=4.\n",
    "eps=0.\n",
    "coupling_strength=1.\n",
    "L=1.\n",
    "\n",
    "def get_P(c):\n",
    "    return np.power(c,alpha)\n",
    "\n",
    "def u2(y,u):\n",
    "    u1=u[1]\n",
    "    u0=u[0]\n",
    "    uw=get_uw(y)\n",
    "    u2=cinterp(y)*(u0-uw)\n",
    "    return np.vstack([u1,u2])\n",
    "\n",
    "def ubc(ua,ub):\n",
    "    return np.array([ua[1],ub[1]])\n",
    "\n",
    "def get_uw(y):\n",
    "    return -y*(y-1)#-1./3.*y**3.\n",
    "\n",
    "def get_vW(y):\n",
    "    vw=y*(y-1.)\n",
    "    vw[np.where(y>1.)]=0.\n",
    "    return vw\n",
    "\n",
    "def get_vE(y,c):\n",
    "    global cinterp\n",
    "    cinterp=interp.interp1d(y,c) #make interpolation object from the concentrations\n",
    "    ug=[get_uw(y),-0.1*np.ones(len(y))] \n",
    "    u=solve_bvp(u2,ubc,y,ug,verbose=1)\n",
    "    u=u.sol(y)[0]\n",
    "    uw=get_uw(y)\n",
    "    return coupling_strength*c*(u-uw)\n",
    "    \n",
    "def dcdt(c,t):\n",
    "    dcdt_adv=np.zeros(len(c)) #concentration advective part \n",
    "    dcdt_diff=np.zeros(len(c)) #concentration diffusive part \n",
    "    v=np.zeros(len(c))\n",
    "    v+=get_vW(y)\n",
    "    #v+=get_vE(y,c)\n",
    "    #advection interior\n",
    "    for ii in range(1,len(c)-1):\n",
    "        if v[ii]<=0:\n",
    "            dcdt_adv[ii]=(c[ii+1]*v[ii+1]-c[ii]*v[ii])/delta\n",
    "        elif v[ii]>0:\n",
    "            dcdt_adv[ii]=(c[ii]*v[ii]-c[ii-1]*v[ii-1])/delta\n",
    "    #BCL:\n",
    "    if v[0]<=0:\n",
    "        dcdt_adv[0]=(v[1]*c[1]-c[0]*v[0])/delta\n",
    "    else:\n",
    "        dcdt_adv[0]=dcdt_adv_BCL(v[0],c[0])\n",
    "    #BCR:\n",
    "    if vw[-1]>=0:\n",
    "        dcdt_adv[-1]=(v[-1]*c[-1]-c[-2]*v[-2])/delta\n",
    "    else:\n",
    "        dcdt_adv[-1]=dcdt_adv_BCR(v[-1],c[-1])\n",
    "    #non linear diffusion interior\n",
    "    P=get_P(c)\n",
    "    dcdt_diff[1:-1]=(P[:-2]-2.*P[1:-1]+P[2:])/delta**2.\n",
    "    #BCL\n",
    "    dcdt_diff[0]=dcdt_diff_BCL(P[1],P[0])\n",
    "    #BCR\n",
    "    dcdt_diff[-1]=dcdt_diff_BCR(P[-1],P[-2])\n",
    "\n",
    "    #linear diffusion interior\n",
    "    dcdt_diff[1:-1]+=eps*(c[:-2]-2.*c[1:-1]+c[2:])/delta**2.\n",
    "    #BCL\n",
    "    dcdt_diff[0]+=eps*dcdt_diff_BCL_lin(c[1],c[0])\n",
    "    #BCR\n",
    "    dcdt_diff[-1]+=eps*dcdt_diff_BCR_lin(c[-1],c[-2])\n",
    "    #return sum \n",
    "    return -dcdt_adv+dcdt_diff\n",
    "\n",
    "def dcdt_adv_BCL(vw0,c0):\n",
    "    if adv_BCL_no_flux==1:\n",
    "        #no flux condition\n",
    "        return vw0*c0/delta\n",
    "    else:\n",
    "        #fixed C condition\n",
    "        return (vw0*c0-vwL*cL)/delta\n",
    "\n",
    "def dcdt_adv_BCR(vw1,c1):\n",
    "    if adv_BCR_no_flux==1:\n",
    "        #no flux condition \n",
    "        return -vw1*c1/delta\n",
    "    else:\n",
    "        #fixed C condition \n",
    "        return (vwR*cR-vw1*c1)/delta\n",
    "\n",
    "def dcdt_diff_BCL(P1,P0):\n",
    "    if diff_BCL_no_flux==1:\n",
    "        return (P1-P0)/delta**2\n",
    "    else:\n",
    "        return (PL-2*P1+P0)/delta**2\n",
    "\n",
    "def dcdt_diff_BCR(P1,P2):\n",
    "    if diff_BCR_no_flux==1:\n",
    "        return -(P1-P2)/delta**2\n",
    "    else:\n",
    "        return (PR-2*P1+P2)/delta**2\n",
    "    \n",
    "def dcdt_diff_BCL_lin(C1,C0):\n",
    "    if diff_BCL_no_flux==1:\n",
    "        return (C1-C0)/delta**2\n",
    "    else:\n",
    "        return (cL-2*C1+C0)/delta**2\n",
    "\n",
    "def dcdt_diff_BCR_lin(C1,C2):\n",
    "    if diff_BCR_no_flux==1:\n",
    "        return -(C1-C2)/delta**2\n",
    "    else:\n",
    "        return (cR-2*C1+C2)/delta**2\n",
    "    \n",
    "def odeint_substepper(c0,t,dM):#reduces output\n",
    "    dt=t[1]-t[0]\n",
    "    C=np.zeros((len(t),len(c0)))\n",
    "    C[0]=c0\n",
    "    t_int=np.linspace(0,dM*dt,int(dM))\n",
    "    for ii in range(1,len(t)):\n",
    "        temp=odeint(dcdt,C[ii-1],t_int)\n",
    "        C[ii]=temp[-1]\n",
    "    return C"
   ]
  },
  {
   "cell_type": "code",
   "execution_count": 44,
   "metadata": {
    "scrolled": true
   },
   "outputs": [
    {
     "name": "stdout",
     "output_type": "stream",
     "text": [
      "500.0\n",
      "0.04\n",
      "50\n"
     ]
    }
   ],
   "source": [
    "#ygrid \n",
    "L=2.\n",
    "delta=0.01\n",
    "N=int(L/delta)-1\n",
    "y=np.linspace(delta,L-delta,N)\n",
    "#advective velocity\n",
    "#vw=1*y*(y-1)\n",
    "#vw=-y*np.exp(-.5*y**2)\n",
    "#settingup the time stepping\n",
    "\n",
    "eps=0.1\n",
    "\n",
    "cinf=0.1\n",
    "Um=np.max(np.abs(vw))\n",
    "dt=delta/Um#**2/(4*4*cinf**3)\n",
    "\n",
    "T=20.\n",
    "dM=10. #substep size \n",
    "M=T/dt\n",
    "print(M)\n",
    "t=np.linspace(0,T+dt,int(M/dM))\n",
    "print(dt)\n",
    "print(len(t))\n",
    "#boundary conditions \n",
    "adv_BCL_no_flux=1\n",
    "adv_BCR_no_flux=1\n",
    "diff_BCL_no_flux=1\n",
    "diff_BCR_no_flux=0\n",
    "cR=cinf\n",
    "PR=get_P(cinf)\n",
    "\n",
    "c0=cinf*np.ones(N)\n",
    "\n",
    "C=odeint_substepper(c0,t,dM)\n"
   ]
  },
  {
   "cell_type": "code",
   "execution_count": 45,
   "metadata": {},
   "outputs": [
    {
     "data": {
      "image/png": "[encoded data removed]",
      "text/plain": [
       "<matplotlib.figure.Figure at 0x7f38200c60b8>"
      ]
     },
     "metadata": {},
     "output_type": "display_data"
    }
   ],
   "source": [
    "plt.figure(figsize=(10,10),facecolor='white')\n",
    "plt.contourf(y,t,C)\n",
    "plt.ylabel('t',fontsize=16)\n",
    "plt.xlabel('y',fontsize=16)\n",
    "plt.show()"
   ]
  },
  {
   "cell_type": "code",
   "execution_count": 47,
   "metadata": {
    "scrolled": true
   },
   "outputs": [
    {
     "name": "stdout",
     "output_type": "stream",
     "text": [
      "500.0\n",
      "0.04\n",
      "50\n"
     ]
    },
    {
     "data": {
      "image/png": "[encoded data removed]",
      "text/plain": [
       "<matplotlib.figure.Figure at 0x7f381fd8d828>"
      ]
     },
     "metadata": {},
     "output_type": "display_data"
    }
   ],
   "source": [
    "#ygrid \n",
    "L=2.\n",
    "delta=0.01\n",
    "N=int(L/delta)-1\n",
    "y=np.linspace(delta,L-delta,N)\n",
    "#advective velocity\n",
    "#vw=1*y*(y-1)\n",
    "#vw=-y*np.exp(-.5*y**2)\n",
    "#settingup the time stepping\n",
    "\n",
    "eps=0.05\n",
    "\n",
    "cinf=0.1\n",
    "Um=np.max(np.abs(vw))\n",
    "dt=delta/Um#**2/(4*4*cinf**3)\n",
    "\n",
    "T=20.\n",
    "dM=10. #substep size \n",
    "M=T/dt\n",
    "print(M)\n",
    "t=np.linspace(0,T+dt,int(M/dM))\n",
    "print(dt)\n",
    "print(len(t))\n",
    "#boundary conditions \n",
    "adv_BCL_no_flux=1\n",
    "adv_BCR_no_flux=1\n",
    "diff_BCL_no_flux=1\n",
    "diff_BCR_no_flux=0\n",
    "cR=cinf\n",
    "PR=get_P(cinf)\n",
    "\n",
    "c0=cinf*np.ones(N)\n",
    "\n",
    "C1=odeint_substepper(c0,t,dM)\n",
    "\n",
    "\n",
    "plt.figure(figsize=(10,10),facecolor='white')\n",
    "plt.contourf(y,t,C1)\n",
    "plt.ylabel('t',fontsize=16)\n",
    "plt.xlabel('y',fontsize=16)\n",
    "plt.show()"
   ]
  },
  {
   "cell_type": "code",
   "execution_count": 51,
   "metadata": {
    "scrolled": true
   },
   "outputs": [
    {
     "name": "stdout",
     "output_type": "stream",
     "text": [
      "500.0\n",
      "0.02\n",
      "50\n"
     ]
    },
    {
     "data": {
      "image/png": "[encoded data removed]",
      "text/plain": [
       "<matplotlib.figure.Figure at 0x7f381fd968d0>"
      ]
     },
     "metadata": {},
     "output_type": "display_data"
    }
   ],
   "source": [
    "#ygrid \n",
    "L=2.\n",
    "delta=0.005\n",
    "N=int(L/delta)-1\n",
    "y=np.linspace(delta,L-delta,N)\n",
    "#advective velocity\n",
    "#vw=1*y*(y-1)\n",
    "#vw=-y*np.exp(-.5*y**2)\n",
    "#settingup the time stepping\n",
    "\n",
    "eps=0.01\n",
    "\n",
    "cinf=0.1\n",
    "Um=np.max(np.abs(vw))\n",
    "dt=delta/Um#**2/(4*4*cinf**3)\n",
    "\n",
    "T=10.\n",
    "dM=10. #substep size \n",
    "M=T/dt\n",
    "print(M)\n",
    "t=np.linspace(0,T+dt,int(M/dM))\n",
    "print(dt)\n",
    "print(len(t))\n",
    "#boundary conditions \n",
    "adv_BCL_no_flux=1\n",
    "adv_BCR_no_flux=1\n",
    "diff_BCL_no_flux=1\n",
    "diff_BCR_no_flux=0\n",
    "cR=cinf\n",
    "PR=get_P(cinf)\n",
    "\n",
    "c0=cinf*np.ones(N)\n",
    "\n",
    "C2=odeint_substepper(c0,t,dM)\n",
    "\n",
    "\n",
    "plt.figure(figsize=(10,10),facecolor='white')\n",
    "plt.contourf(y,t,C2)\n",
    "plt.ylabel('t',fontsize=16)\n",
    "plt.xlabel('y',fontsize=16)\n",
    "plt.show()"
   ]
  },
  {
   "cell_type": "code",
   "execution_count": 53,
   "metadata": {
    "scrolled": true
   },
   "outputs": [
    {
     "name": "stdout",
     "output_type": "stream",
     "text": [
      "500.0\n",
      "0.02\n",
      "50\n"
     ]
    },
    {
     "data": {
      "image/png": "[encoded data removed]",
      "text/plain": [
       "<matplotlib.figure.Figure at 0x7f381fe33550>"
      ]
     },
     "metadata": {},
     "output_type": "display_data"
    }
   ],
   "source": [
    "#ygrid \n",
    "L=2.\n",
    "delta=0.005\n",
    "N=int(L/delta)-1\n",
    "y=np.linspace(delta,L-delta,N)\n",
    "#advective velocity\n",
    "#vw=1*y*(y-1)\n",
    "#vw=-y*np.exp(-.5*y**2)\n",
    "#settingup the time stepping\n",
    "\n",
    "eps=0.025\n",
    "\n",
    "cinf=0.1\n",
    "Um=np.max(np.abs(vw))\n",
    "dt=delta/Um#**2/(4*4*cinf**3)\n",
    "\n",
    "T=10.\n",
    "dM=10. #substep size \n",
    "M=T/dt\n",
    "print(M)\n",
    "t=np.linspace(0,T+dt,int(M/dM))\n",
    "print(dt)\n",
    "print(len(t))\n",
    "#boundary conditions \n",
    "adv_BCL_no_flux=1\n",
    "adv_BCR_no_flux=1\n",
    "diff_BCL_no_flux=1\n",
    "diff_BCR_no_flux=0\n",
    "cR=cinf\n",
    "PR=get_P(cinf)\n",
    "\n",
    "c0=cinf*np.ones(N)\n",
    "\n",
    "C3=odeint_substepper(c0,t,dM)\n",
    "\n",
    "\n",
    "plt.figure(figsize=(10,10),facecolor='white')\n",
    "plt.contourf(y,t,C3)\n",
    "plt.ylabel('t',fontsize=16)\n",
    "plt.xlabel('y',fontsize=16)\n",
    "plt.show()"
   ]
  },
  {
   "cell_type": "code",
   "execution_count": 54,
   "metadata": {
    "scrolled": true
   },
   "outputs": [
    {
     "name": "stdout",
     "output_type": "stream",
     "text": [
      "1000.0\n",
      "0.01\n",
      "100\n"
     ]
    },
    {
     "data": {
      "image/png": "[encoded data removed]",
      "text/plain": [
       "<matplotlib.figure.Figure at 0x7f381ffdb390>"
      ]
     },
     "metadata": {},
     "output_type": "display_data"
    }
   ],
   "source": [
    "#ygrid \n",
    "L=2.\n",
    "delta=0.0025\n",
    "N=int(L/delta)-1\n",
    "y=np.linspace(delta,L-delta,N)\n",
    "#advective velocity\n",
    "#vw=1*y*(y-1)\n",
    "#vw=-y*np.exp(-.5*y**2)\n",
    "#settingup the time stepping\n",
    "\n",
    "eps=0.01\n",
    "\n",
    "cinf=0.1\n",
    "Um=np.max(np.abs(vw))\n",
    "dt=delta/Um#**2/(4*4*cinf**3)\n",
    "\n",
    "T=10.\n",
    "dM=10. #substep size \n",
    "M=T/dt\n",
    "print(M)\n",
    "t=np.linspace(0,T+dt,int(M/dM))\n",
    "print(dt)\n",
    "print(len(t))\n",
    "#boundary conditions \n",
    "adv_BCL_no_flux=1\n",
    "adv_BCR_no_flux=1\n",
    "diff_BCL_no_flux=1\n",
    "diff_BCR_no_flux=0\n",
    "cR=cinf\n",
    "PR=get_P(cinf)\n",
    "\n",
    "c0=cinf*np.ones(N)\n",
    "\n",
    "C4=odeint_substepper(c0,t,dM)\n",
    "\n",
    "\n",
    "plt.figure(figsize=(10,10),facecolor='white')\n",
    "plt.contourf(y,t,C4)\n",
    "plt.ylabel('t',fontsize=16)\n",
    "plt.xlabel('y',fontsize=16)\n",
    "plt.show()"
   ]
  },
  {
   "cell_type": "code",
   "execution_count": 59,
   "metadata": {
    "scrolled": true
   },
   "outputs": [
    {
     "name": "stdout",
     "output_type": "stream",
     "text": [
      "1000.0\n",
      "0.02\n",
      "100\n"
     ]
    },
    {
     "data": {
      "image/png": "[encoded data removed]",
      "text/plain": [
       "<matplotlib.figure.Figure at 0x7f381ffdb828>"
      ]
     },
     "metadata": {},
     "output_type": "display_data"
    }
   ],
   "source": [
    "#ygrid \n",
    "L=1.25\n",
    "delta=0.005\n",
    "N=int(L/delta)-1\n",
    "y=np.linspace(delta,L-delta,N)\n",
    "#advective velocity\n",
    "#vw=1*y*(y-1)\n",
    "#vw=-y*np.exp(-.5*y**2)\n",
    "#settingup the time stepping\n",
    "\n",
    "eps=0.005\n",
    "\n",
    "cinf=0.1\n",
    "Um=np.max(np.abs(vw))\n",
    "dt=delta/Um#**2/(4*4*cinf**3)\n",
    "\n",
    "T=20.\n",
    "dM=10. #substep size \n",
    "M=T/dt\n",
    "print(M)\n",
    "t=np.linspace(0,T+dt,int(M/dM))\n",
    "print(dt)\n",
    "print(len(t))\n",
    "#boundary conditions \n",
    "adv_BCL_no_flux=1\n",
    "adv_BCR_no_flux=1\n",
    "diff_BCL_no_flux=1\n",
    "diff_BCR_no_flux=0\n",
    "cR=cinf\n",
    "PR=get_P(cinf)\n",
    "\n",
    "c0=cinf*np.ones(N)\n",
    "\n",
    "C5=odeint_substepper(c0,t,dM)\n",
    "\n",
    "\n",
    "plt.figure(figsize=(10,10),facecolor='white')\n",
    "plt.contourf(y,t,C5)\n",
    "plt.ylabel('t',fontsize=16)\n",
    "plt.xlabel('y',fontsize=16)\n",
    "plt.show()"
   ]
  },
  {
   "cell_type": "code",
   "execution_count": 63,
   "metadata": {},
   "outputs": [
    {
     "data": {
      "image/png": "[encoded data removed]",
      "text/plain": [
       "<matplotlib.figure.Figure at 0x7f38201ab400>"
      ]
     },
     "metadata": {},
     "output_type": "display_data"
    }
   ],
   "source": [
    "plt.plot(C5[-1])\n",
    "plt.show()"
   ]
  },
  {
   "cell_type": "code",
   "execution_count": 67,
   "metadata": {
    "scrolled": true
   },
   "outputs": [
    {
     "name": "stdout",
     "output_type": "stream",
     "text": [
      "500.0\n",
      "0.01\n",
      "50\n"
     ]
    },
    {
     "data": {
      "image/png": "[encoded data removed]",
      "text/plain": [
       "<matplotlib.figure.Figure at 0x7f381fe43cf8>"
      ]
     },
     "metadata": {},
     "output_type": "display_data"
    }
   ],
   "source": [
    "#ygrid \n",
    "L=1.5\n",
    "delta=0.0025\n",
    "N=int(L/delta)-1\n",
    "y=np.linspace(delta,L-delta,N)\n",
    "#advective velocity\n",
    "#vw=1*y*(y-1)\n",
    "#vw=-y*np.exp(-.5*y**2)\n",
    "#settingup the time stepping\n",
    "\n",
    "eps=0.005\n",
    "\n",
    "cinf=0.1\n",
    "Um=np.max(np.abs(vw))\n",
    "dt=delta/Um#**2/(4*4*cinf**3)\n",
    "\n",
    "T=5.\n",
    "dM=10. #substep size \n",
    "M=T/dt\n",
    "print(M)\n",
    "t=np.linspace(0,T+dt,int(M/dM))\n",
    "print(dt)\n",
    "print(len(t))\n",
    "#boundary conditions \n",
    "adv_BCL_no_flux=1\n",
    "adv_BCR_no_flux=1\n",
    "diff_BCL_no_flux=1\n",
    "diff_BCR_no_flux=0\n",
    "cR=cinf\n",
    "PR=get_P(cinf)\n",
    "\n",
    "c0=cinf*np.ones(N)\n",
    "\n",
    "C5=odeint_substepper(c0,t,dM)\n",
    "\n",
    "\n",
    "plt.figure(figsize=(10,10),facecolor='white')\n",
    "plt.contourf(y,t,C5)\n",
    "plt.ylabel('t',fontsize=16)\n",
    "plt.xlabel('y',fontsize=16)\n",
    "plt.show()"
   ]
  }
 ],
 "metadata": {
  "kernelspec": {
   "display_name": "Python 3",
   "language": "python",
   "name": "python3"
  },
  "language_info": {
   "codemirror_mode": {
    "name": "ipython",
    "version": 3
   },
   "file_extension": ".py",
   "mimetype": "text/x-python",
   "name": "python",
   "nbconvert_exporter": "python",
   "pygments_lexer": "ipython3",
   "version": "3.5.3"
  }
 },
 "nbformat": 4,
 "nbformat_minor": 2
}
